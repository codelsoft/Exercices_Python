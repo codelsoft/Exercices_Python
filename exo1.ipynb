{
 "cells": [
  {
   "cell_type": "code",
   "execution_count": 70,
   "id": "d28b9d50-31c6-429e-803b-746a17cd4d35",
   "metadata": {},
   "outputs": [],
   "source": [
    "amis = [\"Paate\",\"Yero\",\"Kodda\",\"Teen\"]\n",
    "\n",
    "aniv = [\"Novembre\",\"Fevrier\",\"Juin\",\"Octobre\"]"
   ]
  },
  {
   "cell_type": "markdown",
   "id": "03d97ac8-3fe7-4dbc-9f92-79e2124f6331",
   "metadata": {},
   "source": [
    "Affichez  :\n",
    "Paate est ne  en Novembre\n",
    "Yero   est né en Fevrier\n",
    "Kodda est né en Juin\n",
    "Teen est né en Octobre"
   ]
  },
  {
   "cell_type": "code",
   "execution_count": 35,
   "id": "f436c040-bc4d-411d-a312-1f28c9fa9d8f",
   "metadata": {},
   "outputs": [],
   "source": [
    "#amisAniv = dict(zip(amis,aniv))"
   ]
  },
  {
   "cell_type": "code",
   "execution_count": 36,
   "id": "e193cb71-9e25-4633-8acd-20162b26c1cf",
   "metadata": {},
   "outputs": [
    {
     "data": {
      "text/plain": [
       "{'Paate': 'Novembre', 'Yero': 'Fevrier', 'Kodda': 'Juin', 'Teen': 'Octobre'}"
      ]
     },
     "execution_count": 36,
     "metadata": {},
     "output_type": "execute_result"
    }
   ],
   "source": [
    "amisAniv"
   ]
  },
  {
   "cell_type": "code",
   "execution_count": 47,
   "id": "52cb5a49-ad7a-4984-9445-f1353911231a",
   "metadata": {},
   "outputs": [],
   "source": [
    "result = [\"{} est né en {}\".format(k,v) for  k,v in  dict(zip(amis,aniv)).items() ]\n",
    "\n",
    "for r in result :\n",
    "    print(r)"
   ]
  },
  {
   "cell_type": "markdown",
   "id": "ece91898-4ea6-4cb5-9bf5-bd347c4d840f",
   "metadata": {},
   "source": [
    "Méthode 2"
   ]
  },
  {
   "cell_type": "code",
   "execution_count": 69,
   "id": "6b3ab1f4-f7fc-403f-8a0a-c95efc204f6c",
   "metadata": {},
   "outputs": [],
   "source": [
    "amisAniv ={}\n",
    "for ami in amis:\n",
    "    for a in aniv:\n",
    "        amisAniv[ami] = a\n",
    "        aniv.remove(a)\n",
    "        break\n",
    "        \n",
    " \n",
    "for (k,v) in amisAniv.items():\n",
    "    print(k,\"est né en \",v)\n",
    "    "
   ]
  }
 ],
 "metadata": {
  "kernelspec": {
   "display_name": "Python 3 (ipykernel)",
   "language": "python",
   "name": "python3"
  },
  "language_info": {
   "codemirror_mode": {
    "name": "ipython",
    "version": 3
   },
   "file_extension": ".py",
   "mimetype": "text/x-python",
   "name": "python",
   "nbconvert_exporter": "python",
   "pygments_lexer": "ipython3",
   "version": "3.11.1"
  }
 },
 "nbformat": 4,
 "nbformat_minor": 5
}
